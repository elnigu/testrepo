{
 "cells": [
  {
   "cell_type": "markdown",
   "id": "2b0af43f-f132-4a7e-ad7a-d9f9a34d61e1",
   "metadata": {},
   "source": [
    "# My Jupyter Notebook on IBM Watson Studio\n",
    "\n",
    "**Nicolas Simpson**\n",
    "Electrical Engineer\n",
    "\n",
    "*I'm interest in data science because I have a large sets of data that I want to use in our company*\n",
    "\n",
    "### The following code test pythagoras theorem\n"
   ]
  },
  {
   "cell_type": "code",
   "execution_count": 1,
   "id": "b363a38b-3461-4e45-b169-11210e23898e",
   "metadata": {},
   "outputs": [
    {
     "name": "stdout",
     "output_type": "stream",
     "text": [
      "5.0\n"
     ]
    }
   ],
   "source": [
    "import math\n",
    "\n",
    "def pythagoras(a, b):\n",
    "    c = math.sqrt(a**2 + b**2)\n",
    "    return c\n",
    "\n",
    "print(pitagoras(3, 4))"
   ]
  },
  {
   "cell_type": "markdown",
   "id": "d023a803-b26f-4c04-9791-1d04404ca027",
   "metadata": {},
   "source": [
    "* first item\n",
    "* [![A dog](/assets/images/dog.jpg \"Dogs\")](https://encrypted-tbn0.gstatic.com/images?q=tbn:ANd9GcSm1Kn2XvHUq7dd-C8hscC5UJ_I_mHdCFi68rUDv353fg&s)\n",
    "\n",
    "* [google](https://google.com) link"
   ]
  },
  {
   "cell_type": "code",
   "execution_count": null,
   "id": "e9398e72-333b-42c1-88a2-1c5602514f01",
   "metadata": {},
   "outputs": [],
   "source": []
  }
 ],
 "metadata": {
  "kernelspec": {
   "display_name": "Python",
   "language": "python",
   "name": "conda-env-python-py"
  },
  "language_info": {
   "codemirror_mode": {
    "name": "ipython",
    "version": 3
   },
   "file_extension": ".py",
   "mimetype": "text/x-python",
   "name": "python",
   "nbconvert_exporter": "python",
   "pygments_lexer": "ipython3",
   "version": "3.7.12"
  }
 },
 "nbformat": 4,
 "nbformat_minor": 5
}
